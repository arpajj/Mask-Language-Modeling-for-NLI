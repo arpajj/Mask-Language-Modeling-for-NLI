{
 "cells": [
  {
   "cell_type": "code",
   "execution_count": 1,
   "metadata": {},
   "outputs": [
    {
     "name": "stdout",
     "output_type": "stream",
     "text": [
      "The template is: 0 and the Short and Long items are respectively: 5614 and 4210\n",
      "The template is: 1 and the Short and Long items are respectively: 5614 and 4210\n",
      "The template is: 2 and the Short and Long items are respectively: 5614 and 4210\n",
      "The template is: 3 and the Short and Long items are respectively: 5614 and 4210\n",
      "The template is: 4 and the Short and Long items are respectively: 5614 and 4210\n",
      "The template is: 5 and the Short and Long items are respectively: 5614 and 4210\n",
      "The template is: 6 and the Short and Long items are respectively: 5614 and 4210\n",
      "The template is: 7 and the Short and Long items are respectively: 5614 and 4210\n",
      "The template is: 8 and the Short and Long items are respectively: 5614 and 4210\n",
      "The template is: 9 and the Short and Long items are respectively: 5614 and 4210\n",
      "Finished with all DataLoaders creation!!!\n"
     ]
    }
   ],
   "source": [
    "from Helpers import make_dataloaders, main\n",
    "from transformers import BertTokenizer, BertForMaskedLM\n",
    "from transformers import RobertaTokenizer, RobertaForMaskedLM\n",
    "import random\n",
    "import numpy as np"
   ]
  },
  {
   "cell_type": "code",
   "execution_count": 2,
   "metadata": {},
   "outputs": [
    {
     "name": "stderr",
     "output_type": "stream",
     "text": [
      "Some weights of the model checkpoint at bert-base-uncased were not used when initializing BertForMaskedLM: ['cls.seq_relationship.weight', 'cls.seq_relationship.bias']\n",
      "- This IS expected if you are initializing BertForMaskedLM from the checkpoint of a model trained on another task or with another architecture (e.g. initializing a BertForSequenceClassification model from a BertForPreTraining model).\n",
      "- This IS NOT expected if you are initializing BertForMaskedLM from the checkpoint of a model that you expect to be exactly identical (initializing a BertForSequenceClassification model from a BertForSequenceClassification model).\n"
     ]
    }
   ],
   "source": [
    "tokenizer_bert = BertTokenizer.from_pretrained(\"bert-base-uncased\")\n",
    "model_bert = BertForMaskedLM.from_pretrained(\"bert-base-uncased\")"
   ]
  },
  {
   "cell_type": "code",
   "execution_count": 3,
   "metadata": {},
   "outputs": [],
   "source": [
    "tokenizer_roberta = RobertaTokenizer.from_pretrained(\"roberta-base\")\n",
    "model_roberta = RobertaForMaskedLM.from_pretrained(\"roberta-base\")"
   ]
  },
  {
   "cell_type": "code",
   "execution_count": 4,
   "metadata": {},
   "outputs": [],
   "source": [
    "all_labels = make_dataloaders.labels_final\n",
    "all_dataloaders = make_dataloaders.all_dataloaders\n",
    "valid_labels = all_labels[0]\n",
    "test_labels = all_labels[1]"
   ]
  },
  {
   "cell_type": "code",
   "execution_count": 7,
   "metadata": {},
   "outputs": [],
   "source": [
    "# for the extraxtion of tokens from the validation set, this list in not useful but still needs to be passed in the main function\n",
    "tokens_classical = [\"true\", \"yes\", \"right\", \"false\", \"no\", \"wrong\", \"unknown\", \"other\", \".\"]"
   ]
  },
  {
   "cell_type": "code",
   "execution_count": 8,
   "metadata": {},
   "outputs": [
    {
     "name": "stdout",
     "output_type": "stream",
     "text": [
      "On batch 0 out of 1231 bathces\n",
      "On batch 5 out of 1231 bathces\n",
      "On batch 10 out of 1231 bathces\n",
      "On batch 15 out of 1231 bathces\n"
     ]
    }
   ],
   "source": [
    "dl = 0 # for the validation set or 1 for test set\n",
    "idx = 0 # a number from 0 to 9 representing the 10 templates\n",
    "probabilities_over_dateset, top_tokens_seen = main.prob_distribution_over_vocab_with_batch(model_bert, tokenizer_bert, all_dataloaders[idx][dl], tokens_classical, valid=True)"
   ]
  },
  {
   "cell_type": "code",
   "execution_count": 9,
   "metadata": {},
   "outputs": [
    {
     "name": "stdout",
     "output_type": "stream",
     "text": [
      "Choosen batch is:  10\n",
      "\n",
      "Neutrality:\n",
      "[['true'], ['.'], ['false'], ['?'], ['truth'], ['real'], ['yes'], ['no'], ['fact'], ['correct'], ['...'], ['not'], ['genuine'], ['proof'], ['because'], ['wrong'], ['valid'], ['right'], ['!'], ['believe'], ['indeed'], ['fake'], ['possible'], ['incorrect'], ['and'], ['proper'], ['sure'], ['actual'], ['that'], ['actually'], ['unlikely'], ['reasonable'], [','], ['so'], ['authentic'], ['likely'], [';'], ['credible'], ['but'], ['accurate'], ['nay'], ['realistic'], ['good'], ['fiction'], ['why'], ['probable'], ['bullshit'], ['plausible'], ['natural'], ['facts'], ['proven'], ['reality'], ['if'], ['impossible'], ['reliable'], ['or'], ['factual'], ['-'], [\"'\"], ['believed'], ['exactly'], ['yeah'], ['relative'], ['proved'], ['lies'], ['[UNK]'], ['really'], ['evidence'], ['a'], ['fair'], ['credibility'], ['pure'], ['what'], ['clear'], ['otherwise'], ['nonsense'], ['negative'], ['consistent'], ['only'], ['the'], ['maybe'], ['acceptable'], ['perfect'], ['honest'], ['verified'], ['mean'], ['fictitious'], ['positive'], ['logical'], ['accuracy'], ['safe'], ['supposed'], ['fictional'], ['pseudo'], ['exact'], ['faithful'], ['legal'], ['b'], ['validity'], ['implied']]\n",
      "\n",
      "Contradiction:\n",
      "[['.'], ['?'], ['true'], ['!'], [';'], ['...'], ['yes'], ['is'], ['truth'], ['if'], [\"'\"], ['why'], ['not'], ['real'], ['[UNK]'], ['believe'], ['and'], [','], ['|'], ['no'], ['false'], ['what'], ['it'], ['because'], ['so'], ['possible'], ['a'], ['-'], ['that'], ['but'], ['was'], ['the'], ['right'], ['s'], ['when'], ['or'], ['safe'], ['wrong'], ['as'], ['how'], ['now'], ['said'], ['proof'], ['you'], ['good'], ['correct'], ['again'], ['means'], ['yeah'], [':'], ['really'], ['for'], ['she'], ['fact'], ['more'], ['we'], ['then'], ['he'], ['indeed'], ['know'], ['with'], ['in'], ['proper'], ['nay'], ['well'], ['lies'], ['b'], ['to'], ['mean'], ['by'], ['*'], ['let'], ['maybe'], ['i'], ['\"'], ['still'], ['be'], ['sure'], ['can'], ['better'], ['are'], ['t'], ['believed'], ['love'], ['too'], ['only'], ['this'], ['some'], ['other'], ['against'], ['unknown'], ['hidden'], ['sometimes'], ['best'], ['+'], ['genuine'], ['about'], ['valid'], ['out'], ['allowed']]\n",
      "[['true'], ['.'], ['?'], ['!'], ['yes'], ['...'], ['real'], ['no'], ['truth'], ['why'], ['false'], [';'], ['not'], ['wrong'], ['believe'], ['right'], ['good'], ['beautiful'], ['because'], ['love'], ['sound'], ['what'], ['[UNK]'], ['if'], ['so'], ['that'], ['a'], ['and'], ['|'], [\"'\"], ['possible'], [','], ['live'], ['music'], ['fair'], ['proper'], ['-'], ['natural'], ['now'], ['better'], ['the'], ['how'], ['alive'], ['genuine'], ['well'], ['is'], ['correct'], ['nay'], ['indeed'], ['clear'], ['more'], ['she'], ['but'], ['it'], ['fact'], ['fake'], ['sure'], ['something'], ['pure'], ['you'], ['authentic'], ['yeah'], ['free'], ['\"'], ['unknown'], ['still'], ['safe'], ['best'], ['b'], ['perfect'], ['when'], ['really'], ['truly'], ['or'], ['pretty'], ['again'], ['mean'], ['sincerity'], ['okay'], ['listen'], [':'], ['reality'], ['then'], ['maybe'], ['sometimes'], ['by'], ['only'], ['for'], ['say'], ['heart'], ['as'], ['nothing'], ['said'], ['different'], ['loud'], ['song'], ['off'], ['proof'], ['lies'], ['heard']]\n",
      "[['true'], ['.'], ['?'], ['!'], ['false'], ['real'], ['...'], ['truth'], ['yes'], ['no'], ['believe'], [';'], ['not'], ['why'], ['wrong'], ['possible'], ['if'], [\"'\"], ['[UNK]'], ['right'], ['because'], ['a'], ['good'], ['what'], ['|'], ['safe'], ['genuine'], ['fair'], ['correct'], ['-'], ['fake'], ['and'], ['is'], ['love'], ['fact'], ['nay'], [','], ['so'], ['the'], ['proper'], ['natural'], ['that'], [':'], ['unknown'], ['proof'], ['now'], ['sure'], ['best'], ['beautiful'], ['clear'], ['better'], ['live'], ['mean'], ['lies'], ['reality'], ['b'], ['but'], ['incorrect'], ['or'], ['sometimes'], ['alive'], ['more'], ['how'], ['only'], ['free'], ['indeed'], ['well'], ['credible'], ['realistic'], ['perfect'], ['again'], ['fiction'], ['was'], ['actual'], ['authentic'], ['believed'], ['\"'], ['it'], ['accurate'], ['impossible'], ['then'], ['y'], ['other'], ['when'], ['yeah'], ['said'], ['know'], ['positive'], ['you'], ['bold'], ['truly'], ['s'], ['maybe'], ['facts'], ['short'], ['out'], ['wild'], ['extraordinary'], ['lost'], ['really']]\n",
      "\n",
      "Entailment:\n",
      "[['.'], ['?'], ['true'], ['!'], [';'], ['...'], ['yes'], ['truth'], ['real'], ['false'], ['no'], ['why'], ['[UNK]'], [\"'\"], ['not'], ['possible'], ['safe'], ['because'], ['believe'], ['wrong'], ['|'], ['right'], ['good'], ['and'], [','], ['if'], ['so'], ['well'], ['a'], ['what'], ['that'], ['correct'], ['-'], ['proper'], ['the'], ['natural'], ['better'], ['nay'], ['fact'], ['clear'], ['but'], ['indeed'], ['mean'], ['strong'], ['cool'], ['is'], ['yeah'], ['or'], ['now'], [':'], ['it'], ['proof'], ['fair'], ['green'], ['how'], ['again'], ['positive'], ['hidden'], ['acceptable'], ['okay'], ['best'], ['really'], ['beautiful'], ['other'], ['when'], ['said'], ['b'], ['incorrect'], ['more'], ['different'], ['pure'], ['dare'], ['alive'], ['water'], ['simple'], ['love'], ['sure'], ['you'], ['genuine'], ['statement'], ['some'], ['s'], ['still'], ['very'], ['valid'], ['unknown'], ['for'], ['sometimes'], ['by'], ['as'], ['realistic'], ['was'], ['\"'], ['negative'], ['out'], ['wise'], ['allowed'], ['relative'], ['sound'], ['lies']]\n",
      "[['.'], ['?'], ['true'], ['!'], [';'], ['...'], ['truth'], ['yes'], ['false'], ['real'], ['why'], ['no'], ['not'], ['wrong'], ['[UNK]'], ['safe'], ['|'], ['because'], ['right'], ['if'], ['believe'], ['possible'], [\"'\"], ['what'], ['good'], [','], ['and'], ['that'], ['-'], ['a'], ['correct'], ['hidden'], ['the'], ['unknown'], ['so'], ['fact'], ['it'], ['well'], ['proper'], ['but'], ['mean'], ['clear'], ['sure'], ['or'], ['is'], ['indeed'], ['when'], ['proof'], ['strong'], ['now'], ['yeah'], ['how'], ['fair'], ['more'], ['better'], ['lies'], ['again'], ['natural'], ['incorrect'], [':'], ['alive'], ['you'], ['nay'], ['other'], ['\"'], ['out'], ['love'], ['as'], ['pure'], ['she'], ['against'], ['lost'], ['genuine'], ['valid'], ['different'], ['off'], ['some'], ['dare'], ['still'], ['s'], ['okay'], ['by'], ['realistic'], ['sometimes'], ['really'], ['beautiful'], ['fiction'], ['too'], ['free'], ['reality'], ['short'], ['acceptable'], ['simple'], ['was'], ['for'], ['know'], ['said'], ['positive'], ['he'], ['without']]\n",
      "[['true'], ['.'], ['?'], ['!'], ['false'], ['no'], ['...'], ['truth'], ['yes'], ['real'], ['why'], ['not'], [';'], ['wrong'], ['believe'], ['because'], ['right'], [\"'\"], ['what'], ['if'], ['good'], ['[UNK]'], ['that'], ['a'], ['possible'], ['and'], [','], ['lies'], ['so'], ['nay'], ['-'], ['love'], ['the'], ['safe'], ['but'], ['fact'], ['correct'], ['proper'], ['is'], ['natural'], ['well'], ['beautiful'], ['how'], ['fair'], ['|'], ['more'], ['live'], ['now'], ['fake'], ['mean'], ['clear'], ['better'], ['unknown'], ['indeed'], ['sound'], ['incorrect'], ['alive'], ['worse'], ['b'], ['when'], ['or'], ['it'], ['never'], ['genuine'], ['sure'], ['liar'], ['again'], ['only'], ['she'], [':'], ['still'], ['sometimes'], ['\"'], ['said'], ['nothing'], ['strange'], ['impossible'], ['lie'], ['white'], ['nonsense'], ['dead'], ['bad'], ['lost'], ['really'], ['you'], ['yeah'], ['fiction'], ['then'], ['otherwise'], ['reality'], ['know'], ['off'], ['out'], ['something'], ['some'], ['acceptable'], ['as'], ['maybe'], ['very'], ['strong']]\n",
      "[['true'], ['false'], ['.'], ['?'], ['yes'], ['truth'], ['no'], ['real'], ['not'], ['fact'], ['wrong'], ['correct'], ['because'], ['...'], ['proof'], ['right'], ['genuine'], ['indeed'], ['believe'], ['incorrect'], ['possible'], ['!'], ['actual'], ['sure'], ['fake'], ['proper'], ['unlikely'], ['accurate'], ['so'], ['nay'], ['actually'], ['valid'], ['why'], ['that'], ['and'], ['likely'], ['fiction'], ['but'], [','], ['probable'], ['authentic'], ['reasonable'], ['plausible'], ['good'], ['impossible'], ['facts'], ['credible'], ['if'], ['realistic'], ['bullshit'], ['otherwise'], ['lies'], ['believed'], ['really'], ['yeah'], ['reality'], [';'], ['-'], ['natural'], ['or'], ['maybe'], ['accuracy'], ['fictitious'], ['exactly'], ['reliable'], ['fictional'], ['a'], ['fair'], ['what'], ['honest'], [\"'\"], ['factual'], ['evidence'], ['negative'], ['proven'], ['relative'], ['implied'], ['only'], ['mean'], ['credibility'], ['supposed'], ['clear'], ['perfect'], ['safe'], ['proved'], ['[UNK]'], ['nonsense'], ['acceptable'], ['lie'], ['the'], ['logical'], ['b'], ['correctly'], ['exact'], ['better'], ['verified'], ['again'], ['absurd'], ['implies'], ['sometimes']]\n"
     ]
    }
   ],
   "source": [
    "entail_flat, neutral_flat, contr_flat = main.untagle_tokens_based_on_labels(top_tokens_seen, test_labels)"
   ]
  },
  {
   "cell_type": "code",
   "execution_count": 10,
   "metadata": {},
   "outputs": [
    {
     "name": "stdout",
     "output_type": "stream",
     "text": [
      "Common tokens are: ['if', 'lucky', '...', 'nay', 'authentic', 'genuine', 'really', '*', 'short', 'evidence', 'real', 'mean', 'the', 'implied', '!', 'word', 'nice', 'believed', 'simple', 'bullshit', 'won', 'worthy', 'indeed', 'something', 'lie', 'game', ',', 'where', 'was', 'appropriate', 'be', 'white', 'q', 'ridiculous', 'high', 'well', 'know', 'm', 'oh', 'he', 'so', 'proven', '[UNK]', 'strange', 'supposed', 'n', 'with', 'best', 'safe', 'why', 'then', 'possible', 'allowed', 'justified', 'magic', 'broken', 'means', 'truth', 'how', 'wise', 'full', 'is', 'too', 'okay', 'other', 'nothing', 'alive', 'negative', 'against', 'water', 'very', 'normal', 'fiction', 'impossible', 'pretty', 'fake', 'likely', 'honesty', 'say', 'believe', 'absolute', 'not', 'natural', 'i', 'illusion', '。', 'now', 'valid', 'what', 'out', 'logical', 'credibility', 'fair', 'sure', 'incorrect', 'probable', 'wow', 'faithful', 'green', 'lies', 'dead', 'otherwise', 'good', 'respectable', 'realistic', 'said', 'wonder', 'clear', 'live', 'better', 'enough', 'implies', 'y', 'cool', 'false', 'love', 'still', 'legal', 'black', 'pure', 'in', 'off', 'honest', 'different', 'bad', 'actually', 'easy', 'we', 'for', 'fact', ':', 'serious', 'statement', 'about', 'to', 'b', 'life', 'factual', 'because', 'some', 'fictitious', 'non', 'silly', 'proof', 'acceptable', 'obvious', 'yes', 'truly', 'nonsense', ';', 'but', 'soft', 'fictional', 'x', '×', 'unbelievable', 'a', 'facts', 'like', 'yeah', 'story', 'more', 'meaning', 'up', 'correct', 'unlikely', 'that', 'empty', 'it', 'accurate', 'credible', 'absurd', 'reliable', 'exactly', 'true', 'miracle', 'worse', 'proper', 'sound', 'never', 'free', 'dry', 'accuracy', 'wrong', 'positive', 'unknown', 'only', 's', 'time', 'liar', 'maybe', 'sense', '|', \"'\", '\"', 'literal', 'again', '.', 'average', 'reality', 'by', 'blue', 'offensive', 'you', 'and', 'strong', 'funny', 'this', 'sincere', 'hidden', 'interesting', 'wild', '-', 'actual', '?', 'dare', 'reasonable', 'beautiful', 'just', 'lost', 'sometimes', 'plausible', 'when', 'no', 'as', 'unofficial', 'relative', 'proved', 'fantasy', 'exact', 'perfect', '+', 't', 'or', 'right', '0']\n",
      "\n",
      "Tokens only in entailment: ['final', 'words', 'understood', 'amusing', 'play', 'imagination', 'terrible', 'uncertain', 'performance', 'common', 'official', 'accepted', 'laughter', 'lame', 'fire', 'ironic', 'failed', 'gross', 'over', 'ugly', 'lit', 'poetic', 'baby', 'innocent', 'all', 'humorous', 'dumb', 'weak', 'contrary', 'misleading']\n",
      "Tokens only in neutral: ['hope', 'validity', 'crazy', 'consistent', 're', 'chance', 'loose', 'english', 'double', 'race', 'win', 'alternative', 'think', 'typical', 'truths']\n",
      "Tokens only in contradiction: ['sincerity', 'back', 'effective', 'unexpected', '/', 'listen', 'reason', 'song', 'doubt', 'f', 'bold', 'perhaps', 'heard', 'aye', 'remarkable', 'medical', 'heart', 'can', 'clever', 'science', 'who', 'are', 'convincing', 'popular', 'please', 'there', 'fool', 'e', 'patient', 'stronger']\n",
      "\n",
      "The number of tokens only in entailment: 30\n",
      "The number of tokens only in neutral: 15\n",
      "The number of tokens only in contradiction: 30\n"
     ]
    }
   ],
   "source": [
    "main.make_ue_un_ue(entail_flat, neutral_flat, contr_flat)"
   ]
  },
  {
   "cell_type": "code",
   "execution_count": null,
   "metadata": {},
   "outputs": [],
   "source": []
  }
 ],
 "metadata": {
  "kernelspec": {
   "display_name": "Python 3",
   "language": "python",
   "name": "python3"
  },
  "language_info": {
   "codemirror_mode": {
    "name": "ipython",
    "version": 3
   },
   "file_extension": ".py",
   "mimetype": "text/x-python",
   "name": "python",
   "nbconvert_exporter": "python",
   "pygments_lexer": "ipython3",
   "version": "3.7.9"
  }
 },
 "nbformat": 4,
 "nbformat_minor": 2
}
